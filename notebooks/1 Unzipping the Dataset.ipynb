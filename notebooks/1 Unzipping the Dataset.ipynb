{
 "cells": [
  {
   "cell_type": "code",
   "execution_count": 1,
   "id": "64109728-8ce4-4d76-80ec-41cb465bcdf4",
   "metadata": {},
   "outputs": [
    {
     "name": "stdout",
     "output_type": "stream",
     "text": [
      "Extracted CSV(s) from 202301-citibike-tripdata.zip\n",
      "Extracted CSV(s) from 202302-citibike-tripdata.zip\n",
      "Extracted CSV(s) from 202303-citibike-tripdata.zip\n",
      "Extracted CSV(s) from 202304-citibike-tripdata.zip\n",
      "Extracted CSV(s) from 202305-citibike-tripdata.zip\n",
      "Extracted CSV(s) from 202306-citibike-tripdata.zip\n",
      "Extracted CSV(s) from 202307-citibike-tripdata.zip\n",
      "Extracted CSV(s) from 202308-citibike-tripdata.zip\n",
      "Extracted CSV(s) from 202309-citibike-tripdata.zip\n",
      "Extracted CSV(s) from 202310-citibike-tripdata.zip\n",
      "Extracted CSV(s) from 202311-citibike-tripdata.zip\n",
      "Extracted CSV(s) from 202312-citibike-tripdata.zip\n",
      "Extracted CSV(s) from 202401-citibike-tripdata.zip\n",
      "Extracted CSV(s) from 202402-citibike-tripdata.zip\n",
      "Extracted CSV(s) from 202403-citibike-tripdata.zip\n",
      "Extracted CSV(s) from 202404-citibike-tripdata.zip\n",
      "Extracted CSV(s) from 202405-citibike-tripdata.zip\n",
      "Extracted CSV(s) from 202406-citibike-tripdata.zip\n",
      "Extracted CSV(s) from 202407-citibike-tripdata.zip\n",
      "Extracted CSV(s) from 202408-citibike-tripdata.zip\n",
      "Extracted CSV(s) from 202409-citibike-tripdata.zip\n",
      "Extracted CSV(s) from 202410-citibike-tripdata.zip\n",
      "Extracted CSV(s) from 202411-citibike-tripdata.zip\n",
      "Extracted CSV(s) from 202412-citibike-tripdata.zip\n"
     ]
    }
   ],
   "source": [
    "import zipfile\n",
    "import os\n",
    "from pathlib import Path\n",
    "from concurrent.futures import ThreadPoolExecutor\n",
    "\n",
    "# Define paths\n",
    "zip_dir = Path(\"../data/zip\")\n",
    "output_dir = Path(\"../data/unzipped\")\n",
    "output_dir.mkdir(parents=True, exist_ok=True)\n",
    "\n",
    "# Function to extract only CSV files\n",
    "def extract_csv_from_zip(zip_path):\n",
    "    with zipfile.ZipFile(zip_path, 'r') as zip_ref:\n",
    "        for member in zip_ref.infolist():\n",
    "            if member.filename.endswith(\".csv\"):\n",
    "                new_name = f\"{zip_path.stem}_{Path(member.filename).name}\"\n",
    "                target_path = output_dir / new_name\n",
    "                with zip_ref.open(member) as source, open(target_path, \"wb\") as target:\n",
    "                    target.write(source.read())\n",
    "    return zip_path.name\n",
    "\n",
    "# Get all ZIP files\n",
    "zip_files = list(zip_dir.glob(\"*.zip\"))\n",
    "\n",
    "# Extract in parallel\n",
    "with ThreadPoolExecutor(max_workers=os.cpu_count()) as executor:\n",
    "    for zip_name in executor.map(extract_csv_from_zip, zip_files):\n",
    "        print(f\"Extracted CSV(s) from {zip_name}\")"
   ]
  }
 ],
 "metadata": {
  "kernelspec": {
   "display_name": "Python 3 (ipykernel)",
   "language": "python",
   "name": "python3"
  },
  "language_info": {
   "codemirror_mode": {
    "name": "ipython",
    "version": 3
   },
   "file_extension": ".py",
   "mimetype": "text/x-python",
   "name": "python",
   "nbconvert_exporter": "python",
   "pygments_lexer": "ipython3",
   "version": "3.12.10"
  }
 },
 "nbformat": 4,
 "nbformat_minor": 5
}
